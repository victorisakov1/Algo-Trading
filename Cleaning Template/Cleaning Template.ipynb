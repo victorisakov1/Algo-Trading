{
 "cells": [
  {
   "cell_type": "markdown",
   "id": "1633669c",
   "metadata": {},
   "source": [
    "# Binance Finance Data"
   ]
  },
  {
   "cell_type": "code",
   "execution_count": null,
   "id": "d7f296dc",
   "metadata": {},
   "outputs": [],
   "source": [
    "from binance import Client\n",
    "import pandas as pd\n",
    "import numpy as np\n",
    "import talib as tb\n",
    "import time\n",
    "import pandas_ta as pta # to create supertrend indicator   \n",
    "import plotly.graph_objs as go "
   ]
  },
  {
   "cell_type": "code",
   "execution_count": null,
   "id": "99fbb7f9",
   "metadata": {},
   "outputs": [],
   "source": [
    "# API key and secret for the testnet\n",
    "\n",
    "key = ''\n",
    "secret = ''"
   ]
  },
  {
   "cell_type": "code",
   "execution_count": null,
   "id": "3aecdfad",
   "metadata": {},
   "outputs": [],
   "source": [
    "# Sending request to Binance Testnet to connect to Python\n",
    "\n",
    "client = Client(api_key=key, api_secret=secret, testnet=True)"
   ]
  },
  {
   "cell_type": "code",
   "execution_count": null,
   "id": "acb1da5c",
   "metadata": {},
   "outputs": [],
   "source": [
    "# Getting live data in a data frame format from Binance API and the date into an organized\n",
    "# and readable DataFrame.\n",
    "\n",
    "def getdata(symbol, interval, past):\n",
    "    frame = pd.DataFrame(client.get_historical_klines(symbol, interval, past + ' min ago UTC'))\n",
    "    frame = frame.iloc[:, :5]\n",
    "    frame.columns = ['Time', 'Open', 'High', 'Low', 'Close']\n",
    "    frame = frame.set_index('Time')\n",
    "    frame.index = pd.to_datetime(frame.index, unit='ms')\n",
    "    frame = frame.astype(float)\n",
    "    return frame\n",
    "\n",
    "# Retrieving and reading the data into a DataFrame for the given symbol, interval, and \n",
    "# past time period.\n",
    "\n",
    "df = getdata('BTCUSDT', '1m', '60000')\n",
    "\n",
    "df"
   ]
  },
  {
   "cell_type": "code",
   "execution_count": null,
   "id": "5a2e8f1c",
   "metadata": {},
   "outputs": [],
   "source": [
    "# Creating RSI column\n",
    "\n",
    "def algocalculation(df):\n",
    "    df['RSI'] = tb.RSI(np.array(df['Close']), timeperiod=5)"
   ]
  },
  {
   "cell_type": "code",
   "execution_count": null,
   "id": "e4ce1793",
   "metadata": {},
   "outputs": [],
   "source": [
    "algocalculation(df)\n",
    "\n",
    "df"
   ]
  },
  {
   "cell_type": "code",
   "execution_count": null,
   "id": "89768632",
   "metadata": {},
   "outputs": [],
   "source": [
    "df['Signal'] = 'HOLD'  # Default to HOLD\n",
    "df.loc[df['RSI'] < 30, 'Signal'] = 'BUY'\n",
    "df.loc[df['RSI'] > 70, 'Signal'] = 'SELL'\n",
    "df"
   ]
  },
  {
   "cell_type": "markdown",
   "id": "4aa33b12",
   "metadata": {},
   "source": [
    "## Data Type"
   ]
  },
  {
   "cell_type": "code",
   "execution_count": null,
   "id": "54ade7cd",
   "metadata": {},
   "outputs": [],
   "source": [
    "df.info()"
   ]
  },
  {
   "cell_type": "code",
   "execution_count": null,
   "id": "f58388e1",
   "metadata": {},
   "outputs": [],
   "source": [
    "df['Open'] = df['Open'].astype(float)"
   ]
  },
  {
   "cell_type": "markdown",
   "id": "f4ccb1e9",
   "metadata": {},
   "source": [
    "## NaN Values"
   ]
  },
  {
   "cell_type": "code",
   "execution_count": null,
   "id": "a18b7e73",
   "metadata": {},
   "outputs": [],
   "source": [
    "missing_values = df.isnull().sum() \n",
    "print(missing_values)"
   ]
  },
  {
   "cell_type": "code",
   "execution_count": null,
   "id": "efeb844c",
   "metadata": {},
   "outputs": [],
   "source": [
    "df.dropna(inplace = True)"
   ]
  },
  {
   "cell_type": "markdown",
   "id": "b3d08cfb",
   "metadata": {},
   "source": [
    "## Duplicates"
   ]
  },
  {
   "cell_type": "code",
   "execution_count": null,
   "id": "64ce4fde",
   "metadata": {},
   "outputs": [],
   "source": [
    "df.drop_duplicates(inplace=True)"
   ]
  },
  {
   "cell_type": "markdown",
   "id": "f1dcde4b",
   "metadata": {},
   "source": [
    "## Dummy Variables"
   ]
  },
  {
   "cell_type": "code",
   "execution_count": null,
   "id": "9d2c8e42",
   "metadata": {
    "scrolled": false
   },
   "outputs": [],
   "source": [
    "def delete_flagged_rows(df):\n",
    "    columns_to_check = ['Open', 'Close', 'High', 'Low']\n",
    "    for col in columns_to_check:\n",
    "        mean = df[col].mean()\n",
    "        std = df[col].std()\n",
    "        df = df[df[col].between(mean - 3 * std, mean + 3 * std)]\n",
    "    return df\n",
    "\n",
    "df = delete_flagged_rows(df)"
   ]
  },
  {
   "cell_type": "markdown",
   "id": "c7c2bff0",
   "metadata": {},
   "source": [
    "## Outliers"
   ]
  },
  {
   "cell_type": "code",
   "execution_count": null,
   "id": "a5de9f06",
   "metadata": {},
   "outputs": [],
   "source": [
    "Q1 = df['Close'].quantile(0.25) \n",
    "Q3 = df['Close'].quantile(0.75) \n",
    "IQR = Q3 - Q1 \n",
    "df = df[~((df['Close'] < (Q1 - 1.5 * IQR)) | (df['Close'] > (Q3 + 1.5 * IQR)))]"
   ]
  },
  {
   "cell_type": "markdown",
   "id": "95bb903c",
   "metadata": {},
   "source": [
    "## Filtering Data"
   ]
  },
  {
   "cell_type": "code",
   "execution_count": null,
   "id": "6f787fdb",
   "metadata": {},
   "outputs": [],
   "source": [
    "df = df.filter(['Time', 'Close', 'Signal'])\n",
    "df"
   ]
  }
 ],
 "metadata": {
  "kernelspec": {
   "display_name": "Python 3 (ipykernel)",
   "language": "python",
   "name": "python3"
  },
  "language_info": {
   "codemirror_mode": {
    "name": "ipython",
    "version": 3
   },
   "file_extension": ".py",
   "mimetype": "text/x-python",
   "name": "python",
   "nbconvert_exporter": "python",
   "pygments_lexer": "ipython3",
   "version": "3.11.5"
  },
  "toc": {
   "base_numbering": 1,
   "nav_menu": {},
   "number_sections": true,
   "sideBar": true,
   "skip_h1_title": false,
   "title_cell": "Table of Contents",
   "title_sidebar": "Contents",
   "toc_cell": false,
   "toc_position": {},
   "toc_section_display": true,
   "toc_window_display": false
  },
  "varInspector": {
   "cols": {
    "lenName": 16,
    "lenType": 16,
    "lenVar": 40
   },
   "kernels_config": {
    "python": {
     "delete_cmd_postfix": "",
     "delete_cmd_prefix": "del ",
     "library": "var_list.py",
     "varRefreshCmd": "print(var_dic_list())"
    },
    "r": {
     "delete_cmd_postfix": ") ",
     "delete_cmd_prefix": "rm(",
     "library": "var_list.r",
     "varRefreshCmd": "cat(var_dic_list()) "
    }
   },
   "types_to_exclude": [
    "module",
    "function",
    "builtin_function_or_method",
    "instance",
    "_Feature"
   ],
   "window_display": false
  }
 },
 "nbformat": 4,
 "nbformat_minor": 5
}
