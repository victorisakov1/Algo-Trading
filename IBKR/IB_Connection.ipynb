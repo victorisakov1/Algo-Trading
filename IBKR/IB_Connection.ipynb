{
 "cells": [
  {
   "cell_type": "code",
   "execution_count": null,
   "id": "3114f074",
   "metadata": {},
   "outputs": [],
   "source": [
    "# Import IB_isync for optimising use of IB API\n",
    "import nest_asyncio\n",
    "from ib_insync import *\n",
    "# Apply nest_asyncio to allow nested event loops\n",
    "nest_asyncio.apply()\n",
    "# Pandas is used for data manipulation\n",
    "import pandas as pd\n",
    "import time"
   ]
  },
  {
   "cell_type": "code",
   "execution_count": null,
   "id": "615f6b5c",
   "metadata": {},
   "outputs": [],
   "source": [
    "#Structural information\n",
    "api_ip = 'your_ip'\n",
    "client_number = 7497\n",
    "next_client_id = 1"
   ]
  },
  {
   "cell_type": "code",
   "execution_count": null,
   "id": "4cb88233",
   "metadata": {},
   "outputs": [],
   "source": [
    "#Function of Client ID generation (adding +1 to the previous value)\n",
    "def generate_and_run_task():\n",
    "    global next_client_id\n",
    "    client_id = next_client_id\n",
    "    next_client_id += 1\n",
    "    return client_id\n",
    "    \n",
    "client_id = generate_and_run_task()\n",
    "\n",
    "#Trying to connect to Interactive Brokers\n",
    "try:\n",
    "    ib = IB()\n",
    "    ib.connect(api_ip,client_number,clientId=client_id)\n",
    "    print(\"Successfully connected to IB\")\n",
    "    \n",
    "except Exception as e:\n",
    "    print(\"\"\"Failed to connect to IB - Please wait a moment and try the folowing option: \n",
    "          1. Check if TWS is connected.\n",
    "          2. If point 1 is satisfied, wait a moment and try to rerun the bot.\"\"\",str(e))"
   ]
  }
 ],
 "metadata": {
  "kernelspec": {
   "display_name": "Python 3 (ipykernel)",
   "language": "python",
   "name": "python3"
  },
  "language_info": {
   "codemirror_mode": {
    "name": "ipython",
    "version": 3
   },
   "file_extension": ".py",
   "mimetype": "text/x-python",
   "name": "python",
   "nbconvert_exporter": "python",
   "pygments_lexer": "ipython3",
   "version": "3.11.5"
  },
  "toc": {
   "base_numbering": 1,
   "nav_menu": {},
   "number_sections": true,
   "sideBar": true,
   "skip_h1_title": false,
   "title_cell": "Table of Contents",
   "title_sidebar": "Contents",
   "toc_cell": false,
   "toc_position": {},
   "toc_section_display": true,
   "toc_window_display": false
  },
  "varInspector": {
   "cols": {
    "lenName": 16,
    "lenType": 16,
    "lenVar": 40
   },
   "kernels_config": {
    "python": {
     "delete_cmd_postfix": "",
     "delete_cmd_prefix": "del ",
     "library": "var_list.py",
     "varRefreshCmd": "print(var_dic_list())"
    },
    "r": {
     "delete_cmd_postfix": ") ",
     "delete_cmd_prefix": "rm(",
     "library": "var_list.r",
     "varRefreshCmd": "cat(var_dic_list()) "
    }
   },
   "types_to_exclude": [
    "module",
    "function",
    "builtin_function_or_method",
    "instance",
    "_Feature"
   ],
   "window_display": false
  }
 },
 "nbformat": 4,
 "nbformat_minor": 5
}
