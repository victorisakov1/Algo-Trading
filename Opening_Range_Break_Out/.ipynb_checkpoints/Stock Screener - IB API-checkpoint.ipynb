{
 "cells": [
  {
   "cell_type": "code",
   "execution_count": null,
   "id": "f3d85a1a",
   "metadata": {},
   "outputs": [],
   "source": [
    "import nest_asyncio\n",
    "from ib_insync import *\n",
    "import pandas as pd\n",
    "\n",
    "# Apply nest_asyncio to allow nested event loops\n",
    "nest_asyncio.apply()\n",
    "\n",
    "import yfinance as yf\n",
    "import pandas as pd\n",
    "from datetime import datetime, timedelta\n",
    "\n",
    "from sqlalchemy import create_engine\n",
    "\n",
    "# Connect to the TWS API\n",
    "ib = IB()\n",
    "ib.connect('your_ip', 7497, clientId=4423)  # Use port 7496 for live trading"
   ]
  },
  {
   "cell_type": "code",
   "execution_count": null,
   "id": "48060140",
   "metadata": {},
   "outputs": [],
   "source": [
    "# Creating a SQL database\n",
    "engine = create_engine('sqlite:///stocklist.db')"
   ]
  },
  {
   "cell_type": "code",
   "execution_count": null,
   "id": "388bcb78",
   "metadata": {},
   "outputs": [],
   "source": [
    "import warnings \n",
    "# Settings the warnings to be ignored \n",
    "warnings.filterwarnings('ignore')"
   ]
  },
  {
   "cell_type": "code",
   "execution_count": null,
   "id": "2ff91902",
   "metadata": {},
   "outputs": [],
   "source": [
    "#The function processes data to create a DataFrame that includes the rank, contract details, contract, and stock symbol.\n",
    "#It extracts details to provide information about contracts.\n",
    "\n",
    "def display_with_stock_symbol(scanData):\n",
    "    df=util.df(scanData)\n",
    "    df['contract']=df.apply(lambda l:l['contractDetails'].contract,axis=1)\n",
    "    df['symbol']=df.apply(lambda l:l['contract'].symbol,axis=1)\n",
    "    return df[['rank','contractDetails','contract','symbol']]"
   ]
  },
  {
   "cell_type": "code",
   "execution_count": null,
   "id": "53442102",
   "metadata": {},
   "outputs": [],
   "source": [
    "#Function to pull data about Top_50 Top_Gainers today, in the price range between 2 and 20 USD.\n",
    "#Further, it returns a list of tickers\n",
    "\n",
    "def select_top_performer_list():\n",
    "    sub = ScannerSubscription(numberOfRows=50,instrument='STK',locationCode='STK.US.MAJOR',\n",
    "                         scanCode='TOP_PERC_GAIN',abovePrice=2, belowPrice=20\n",
    "                         )\n",
    "    scanData = ib.reqScannerData(sub)\n",
    "\n",
    "    df = display_with_stock_symbol(scanData)\n",
    "    stock_list = df['symbol'].tolist()\n",
    "    \n",
    "    return stock_list"
   ]
  },
  {
   "cell_type": "code",
   "execution_count": null,
   "id": "00d4207f",
   "metadata": {},
   "outputs": [],
   "source": [
    "#This function is a filter of stocks based on the volume.\n",
    "#It gets historical data about volume and identifies variation.\n",
    "#Further, it provides a list of filtered stocks.\n",
    "\n",
    "def filter_vol(stock_list):\n",
    "    # List of 15 stocks\n",
    "    stocks = stock_list\n",
    "    filtered_list = []\n",
    "        \n",
    "    # Define the date range\n",
    "    end_date = datetime.today().strftime('%Y-%m-%d')\n",
    "    start_date = (datetime.today() - timedelta(days=90)).strftime('%Y-%m-%d')\n",
    "\n",
    "    # Dictionary to hold the results\n",
    "    selected_stocks = {}\n",
    "\n",
    "    for stock in stocks:\n",
    "        print(stock)\n",
    "        stock = stock.replace(\" \",\"\")\n",
    "        # Download historical data for the last 31 days\n",
    "        data = yf.download(stock, start=start_date, end=end_date)\n",
    "\n",
    "        if len(data) >= 31:  # Ensure there are enough data points\n",
    "            # Calculate the average volume over the last 30 days (excluding today)\n",
    "            avg_volume_30_days = data['Volume'][:-1].mean()\n",
    "\n",
    "            # Today's volume\n",
    "            today_volume = data['Volume'][-1]\n",
    "\n",
    "            # Calculate the volume variation percentage\n",
    "            volume_variation = ((today_volume - avg_volume_30_days) / avg_volume_30_days) * 100\n",
    "\n",
    "            # Select stocks with more than 500% volume variation\n",
    "            if volume_variation > 500:\n",
    "                filtered_list.append(stock)\n",
    "                selected_stocks[stock] = volume_variation\n",
    "\n",
    "    # Print the selected stocks\n",
    "    print(\"Stocks with more than 5x volume variation:\")\n",
    "    for stock, variation in selected_stocks.items():\n",
    "        print(f\"{stock}: {variation:.2f}%\")\n",
    "    \n",
    "    return filtered_list"
   ]
  },
  {
   "cell_type": "code",
   "execution_count": null,
   "id": "061de379",
   "metadata": {},
   "outputs": [],
   "source": [
    "(\"SEDA\").replace(\" \",\"\")"
   ]
  },
  {
   "cell_type": "code",
   "execution_count": null,
   "id": "cbf7d7cd",
   "metadata": {},
   "outputs": [],
   "source": [
    "yf.download((\"SEDA U\").replace(\" \",\"\"))"
   ]
  },
  {
   "cell_type": "code",
   "execution_count": null,
   "id": "c9753222",
   "metadata": {},
   "outputs": [],
   "source": [
    "# This function is a filter based on price change above 10%.\n",
    "# Further it returns a list of filtered tickers (stocks)\n",
    "\n",
    "def filter_price(stock_list):\n",
    "    # List of 15 stocks\n",
    "    stocks = stock_list\n",
    "    filtered_list = []\n",
    "    \n",
    "    # Define the date range\n",
    "    end_date = datetime.today().strftime('%Y-%m-%d')\n",
    "    start_date = (datetime.today() - timedelta(days=90)).strftime('%Y-%m-%d')\n",
    "\n",
    "    # Dictionary to hold the results\n",
    "    selected_stocks = {}\n",
    "\n",
    "    for stock in stocks:\n",
    "        # Download historical data for the last 31 days\n",
    "        data = yf.download(stock, start=start_date, end=end_date)\n",
    "\n",
    "        if len(data) >= 31:  # Ensure there are enough data points\n",
    "            # Today's volume\n",
    "            live_price = data['Close'][-1]\n",
    "            previous_price = data['Close'][-2]\n",
    "\n",
    "            # Calculate the volume variation percentage\n",
    "            price_variation = ((live_price - previous_price) / previous_price) * 100\n",
    "\n",
    "            # Select stocks with more than 500% volume variation\n",
    "            if price_variation > 10:\n",
    "                filtered_list.append(stock)\n",
    "                selected_stocks[stock] = price_variation\n",
    "\n",
    "    # Print the selected stocks\n",
    "    print(\"Stocks with price variation above 10%:\")\n",
    "    for stock, variation in selected_stocks.items():\n",
    "        print(f\"{stock}: {variation:.2f}%\")\n",
    "    \n",
    "    return filtered_list"
   ]
  },
  {
   "cell_type": "code",
   "execution_count": null,
   "id": "2002a004",
   "metadata": {},
   "outputs": [],
   "source": [
    "#This function runs previously mentioned functions to add tickers in the list.\n",
    "#It checks for top performers, filters by volume, price and creates a dataframe.\n",
    "#Finally, it adds it to the SQL table.\n",
    "\n",
    "def stock_screener():\n",
    "    stock_list = select_top_performer_list()\n",
    "    stock_list = filter_vol(stock_list)\n",
    "    stock_list = filter_price(stock_list)\n",
    "    stock_df = pd.DataFrame(stock_list, columns=['Stocks'])\n",
    "    stock_df.to_sql(\"stocklist\",engine,if_exists='replace',index=False)\n",
    "    return stock_list"
   ]
  },
  {
   "cell_type": "code",
   "execution_count": null,
   "id": "d4810f94",
   "metadata": {},
   "outputs": [],
   "source": [
    "#This loop runs Stock Screener infinitely \n",
    "\n",
    "while True:\n",
    "    print(\"This loop will run forever!\")\n",
    "    stock_screener()"
   ]
  }
 ],
 "metadata": {
  "kernelspec": {
   "display_name": "Python 3 (ipykernel)",
   "language": "python",
   "name": "python3"
  },
  "language_info": {
   "codemirror_mode": {
    "name": "ipython",
    "version": 3
   },
   "file_extension": ".py",
   "mimetype": "text/x-python",
   "name": "python",
   "nbconvert_exporter": "python",
   "pygments_lexer": "ipython3",
   "version": "3.11.5"
  },
  "toc": {
   "base_numbering": 1,
   "nav_menu": {},
   "number_sections": true,
   "sideBar": true,
   "skip_h1_title": false,
   "title_cell": "Table of Contents",
   "title_sidebar": "Contents",
   "toc_cell": false,
   "toc_position": {},
   "toc_section_display": true,
   "toc_window_display": false
  },
  "varInspector": {
   "cols": {
    "lenName": 16,
    "lenType": 16,
    "lenVar": 40
   },
   "kernels_config": {
    "python": {
     "delete_cmd_postfix": "",
     "delete_cmd_prefix": "del ",
     "library": "var_list.py",
     "varRefreshCmd": "print(var_dic_list())"
    },
    "r": {
     "delete_cmd_postfix": ") ",
     "delete_cmd_prefix": "rm(",
     "library": "var_list.r",
     "varRefreshCmd": "cat(var_dic_list()) "
    }
   },
   "types_to_exclude": [
    "module",
    "function",
    "builtin_function_or_method",
    "instance",
    "_Feature"
   ],
   "window_display": false
  }
 },
 "nbformat": 4,
 "nbformat_minor": 5
}
