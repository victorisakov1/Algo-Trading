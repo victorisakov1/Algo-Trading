{
 "cells": [
  {
   "cell_type": "markdown",
   "id": "55fe92ce",
   "metadata": {},
   "source": [
    "### Libraries Required"
   ]
  },
  {
   "cell_type": "code",
   "execution_count": null,
   "id": "4969c897",
   "metadata": {
    "scrolled": false
   },
   "outputs": [],
   "source": [
    "#!pip install python-binance\n",
    "\n",
    "#!pip install ta-lib \n",
    "\n",
    "#!pip install pandas-ta"
   ]
  },
  {
   "cell_type": "code",
   "execution_count": null,
   "id": "3f92fa00",
   "metadata": {},
   "outputs": [],
   "source": [
    "from binance import Client\n",
    "import pandas as pd\n",
    "import numpy as np\n",
    "import talib as tb\n",
    "import time\n",
    "import pandas_ta as pta # to create supertrend indicator   \n",
    "import plotly.graph_objs as go "
   ]
  },
  {
   "cell_type": "markdown",
   "id": "6f0c7807",
   "metadata": {},
   "source": [
    "### Connect to Binance"
   ]
  },
  {
   "cell_type": "code",
   "execution_count": null,
   "id": "f3d9392d",
   "metadata": {},
   "outputs": [],
   "source": [
    "# API key and secret for the testnet\n",
    "\n",
    "key = ''\n",
    "secret = ''"
   ]
  },
  {
   "cell_type": "code",
   "execution_count": null,
   "id": "fe4b2a82",
   "metadata": {},
   "outputs": [],
   "source": [
    "# Sending request to Binance Testnet to connect to Python\n",
    "\n",
    "client = Client(api_key=key, api_secret=secret, testnet=True)"
   ]
  },
  {
   "cell_type": "markdown",
   "id": "85385358",
   "metadata": {},
   "source": [
    "### Trading bot - get live data"
   ]
  },
  {
   "cell_type": "code",
   "execution_count": null,
   "id": "8ec1aa48",
   "metadata": {},
   "outputs": [],
   "source": [
    "# Getting live data in a data frame format from Binance API and the date into an organized\n",
    "# and readable DataFrame.\n",
    "\n",
    "def getdata(symbol, interval, past):\n",
    "    frame = pd.DataFrame(client.get_historical_klines(symbol, interval, past + ' min ago UTC'))\n",
    "    frame = frame.iloc[:, :5]\n",
    "    frame.columns = ['Time', 'Open', 'High', 'Low', 'Close']\n",
    "    frame = frame.set_index('Time')\n",
    "    frame.index = pd.to_datetime(frame.index, unit='ms')\n",
    "    frame = frame.astype(float)\n",
    "    return frame\n",
    "\n",
    "# Retrieving and reading the data into a DataFrame for the given symbol, interval, and \n",
    "# past time period.\n",
    "\n",
    "df = getdata('BTCUSDT', '1m', '100')\n",
    "\n",
    "df"
   ]
  },
  {
   "cell_type": "markdown",
   "id": "a561e920",
   "metadata": {},
   "source": [
    "### Calculate Supertrend Indicator"
   ]
  },
  {
   "cell_type": "code",
   "execution_count": null,
   "id": "1c388ce4",
   "metadata": {},
   "outputs": [],
   "source": [
    "# Calculating the SuperTrend indicator using the pandas_ta library\n",
    "\n",
    "spt = pta.supertrend(df['High'], df['Low'], df['Close'], 4, 2)\n",
    "\n",
    "# Concatenating the SuperTrend DataFrame with the original DataFrame\n",
    "\n",
    "df = pd.concat([df,spt], axis = 1)\n",
    "\n",
    "df"
   ]
  },
  {
   "cell_type": "markdown",
   "id": "848830be",
   "metadata": {},
   "source": [
    "### Define Strategy"
   ]
  },
  {
   "cell_type": "code",
   "execution_count": null,
   "id": "ca8b4522",
   "metadata": {},
   "outputs": [],
   "source": [
    "# Defining strategy based on Supertrend Indicator\n",
    "\n",
    "def strategy(pair, interval, past, qty, open_position = False):\n",
    "    df = getdata(pair, interval, past)\n",
    "    spt = pta.supertrend(df['High'], df['Low'], df['Close'], 4, 2)\n",
    "    df = pd.concat([df, spt], axis=1)\n",
    "    print(f'Current Close Price is ' + str(df.Close.iloc[-1]))\n",
    "    print(f'Current Supertrend value is ' + str(df['SUPERT_4_2.0'].iloc[-1]))\n",
    "    if df['SUPERTd_4_2.0'].iloc[-1] == 1: # Checking if the SuperTrend direction indicator is 1 (indicating an uptrend)\n",
    "        order = client.create_order(symbol = pair, side = 'BUY', type = 'MARKET', quantity = qty)\n",
    "        print(order)\n",
    "        open_position = True\n",
    "    while open_position:\n",
    "        df = getdata(pair, interval, past)\n",
    "        spt = pta.supertrend(df['High'], df['Low'], df['Close'], 4, 2)\n",
    "        df = pd.concat([df, spt], axis=1)\n",
    "        print(f'Current Close Price is ' + str(df.Close.iloc[-1]))\n",
    "        print(f'Current Supertrend value is ' + str(df['SUPERT_4_2.0'].iloc[-1]))\n",
    "        if df['SUPERTd_4_2.0'].iloc[-1] == -1: # Checking if the SuperTrend direction indicator is -1 (indicating a downtrend)\n",
    "            order = client.create_order(symbol = pair, side = 'SELL', type = 'MARKET', quantity = qty)\n",
    "            print(order)\n",
    "            open_position = False\n",
    "            break"
   ]
  },
  {
   "cell_type": "markdown",
   "id": "12c6a313",
   "metadata": {},
   "source": [
    "### Supertrend Indicator Visualization"
   ]
  },
  {
   "cell_type": "code",
   "execution_count": null,
   "id": "8a6ff2cd",
   "metadata": {},
   "outputs": [],
   "source": [
    "\n",
    "# Creating figure\n",
    "fig = go.Figure()\n",
    "\n",
    "# Adding candlestick trace\n",
    "fig.add_trace(go.Candlestick(x=df.index,\n",
    "                             open=df['Open'],\n",
    "                             high=df['High'],\n",
    "                             low=df['Low'],\n",
    "                             close=df['Close'],\n",
    "                             name='Market Data'))\n",
    "\n",
    "# Adding a scatter trace for the SuperTrend Up values\n",
    "fig.add_trace(go.Scatter(x=df.index,\n",
    "                         y=df['SUPERTs_4_2.0'],\n",
    "                         line=dict(color='red', width=1.5),\n",
    "                         name='SPT Up'))\n",
    "\n",
    "# Adding a scatter trace for the SuperTrend Down values\n",
    "fig.add_trace(go.Scatter(x=df.index,\n",
    "                         y=df['SUPERTl_4_2.0'],\n",
    "                         line=dict(color='blue', width=1.5),\n",
    "                         name='SPT Down'))\n",
    "\n",
    "# Updating layout\n",
    "fig.update_layout(\n",
    "    title='ETHUSDT Market Data',\n",
    "    yaxis_title='ETHUSDT (US Dollars)',\n",
    "    xaxis_title='Date',\n",
    "    xaxis_rangeslider_visible=True,\n",
    "    xaxis=dict(\n",
    "        rangeselector=dict(\n",
    "            buttons=list([\n",
    "                dict(count=1, label=\"1m\", step=\"minute\", stepmode=\"backward\"),\n",
    "                dict(count=15, label=\"15m\", step=\"minute\", stepmode=\"backward\"),\n",
    "                dict(count=1, label=\"1h\", step=\"hour\", stepmode=\"backward\"),\n",
    "                dict(step=\"all\")\n",
    "            ])\n",
    "        ),\n",
    "        rangeslider=dict(visible=True),\n",
    "        type=\"date\"\n",
    "    )\n",
    ")\n",
    "\n",
    "# Updating y-axis with dollar sign prefix\n",
    "fig.update_yaxes(tickprefix=\"$\")\n",
    "\n",
    "# Showing figure\n",
    "fig.show()"
   ]
  },
  {
   "cell_type": "markdown",
   "id": "25c1164f",
   "metadata": {},
   "source": [
    "### Golden Cross Strategy"
   ]
  },
  {
   "cell_type": "code",
   "execution_count": null,
   "id": "0c27c22c",
   "metadata": {},
   "outputs": [],
   "source": [
    "# Calculating moving averages\n",
    "df['MA5'] = df['Close'].rolling(5).mean()\n",
    "df['MA20'] = df['Close'].rolling(20).mean()\n",
    "\n",
    "# Creating a figure\n",
    "fig = go.Figure()\n",
    "\n",
    "# Adding candlestick trace\n",
    "fig.add_trace(go.Candlestick(x=df.index,\n",
    "                             open=df['Open'],\n",
    "                             high=df['High'],\n",
    "                             low=df['Low'],\n",
    "                             close=df['Close'],\n",
    "                             name='Market Data'))\n",
    "\n",
    "# Short-term moving average trace\n",
    "fig.add_trace(go.Scatter(x=df.index,\n",
    "                         y=df['MA5'],\n",
    "                         line=dict(color='orange', width=1.5),\n",
    "                         name='Short Term MA'))\n",
    "\n",
    "# Long-term moving average trace\n",
    "fig.add_trace(go.Scatter(x=df.index,\n",
    "                         y=df['MA20'],\n",
    "                         line=dict(color='purple', width=1.5),\n",
    "                         name='Long Term MA'))\n",
    "\n",
    "# Updating layout\n",
    "fig.update_layout(\n",
    "    title='ETHUSDT Market Data with Golden Cross',\n",
    "    yaxis_title='ETHUSDT (US Dollars)',\n",
    "    xaxis_title='Date',\n",
    "    xaxis_rangeslider_visible=True,\n",
    "    xaxis=dict(\n",
    "        rangeselector=dict(\n",
    "            buttons=list([\n",
    "                dict(count=1, label=\"1m\", step=\"minute\", stepmode=\"backward\"),\n",
    "                dict(count=15, label=\"15m\", step=\"minute\", stepmode=\"backward\"),\n",
    "                dict(count=1, label=\"1h\", step=\"hour\", stepmode=\"backward\"),\n",
    "                dict(step=\"all\")\n",
    "            ])\n",
    "        ),\n",
    "        rangeslider=dict(visible=True),\n",
    "        type=\"date\"\n",
    "    )\n",
    ")\n",
    "\n",
    "# Updating y-axis with dollar sign prefix\n",
    "fig.update_yaxes(tickprefix=\"$\")\n",
    "\n",
    "# Showing figure\n",
    "fig.show()"
   ]
  },
  {
   "cell_type": "markdown",
   "id": "cf760d62",
   "metadata": {},
   "source": [
    "### Bollinger Band"
   ]
  },
  {
   "cell_type": "code",
   "execution_count": null,
   "id": "d38830b9",
   "metadata": {},
   "outputs": [],
   "source": [
    "# Parameters for Bollinger Bands\n",
    "window = 30\n",
    "no_of_std = 2\n",
    "\n",
    "# Calculating moving average\n",
    "df['SMA'] = df['Close'].rolling(window=window).mean()\n",
    "\n",
    "# Calculating rolling standard deviation\n",
    "df['STD'] = df['Close'].rolling(window=window).std()\n",
    "\n",
    "# Calculating upper and lower Bollinger Bands\n",
    "df['Upper_Band'] = df['SMA'] + (df['STD'] * no_of_std)\n",
    "df['Lower_Band'] = df['SMA'] - (df['STD'] * no_of_std)\n",
    "\n",
    "# Creating a figure\n",
    "fig = go.Figure()\n",
    "\n",
    "# Adding candlestick trace\n",
    "fig.add_trace(go.Candlestick(x=df.index,\n",
    "                             open=df['Open'],\n",
    "                             high=df['High'],\n",
    "                             low=df['Low'],\n",
    "                             close=df['Close'],\n",
    "                             name='market data'))\n",
    "\n",
    "# Adding Bollinger Bands traces\n",
    "fig.add_trace(go.Scatter(x=df.index,\n",
    "                         y=df['Upper_Band'],\n",
    "                         line=dict(color='red', width=1.5),\n",
    "                         name='Upper Bollinger Band'))\n",
    "\n",
    "fig.add_trace(go.Scatter(x=df.index,\n",
    "                         y=df['SMA'],\n",
    "                         line=dict(color='blue', width=1.5),\n",
    "                         name='20-day SMA'))\n",
    "\n",
    "fig.add_trace(go.Scatter(x=df.index,\n",
    "                         y=df['Lower_Band'],\n",
    "                         line=dict(color='red', width=1.5),\n",
    "                         name='Lower Bollinger Band'))\n",
    "\n",
    "# Updating layout\n",
    "fig.update_layout(\n",
    "    title='ETHUSDT Market Data with Bollinger Bands',\n",
    "    yaxis_title='ETHUSDT (US Dollars)',\n",
    "    xaxis_title='Date',\n",
    "    xaxis_rangeslider_visible=True,\n",
    "    xaxis=dict(\n",
    "        rangeselector=dict(\n",
    "            buttons=list([\n",
    "                dict(count=1, label=\"1m\", step=\"minute\", stepmode=\"backward\"),\n",
    "                dict(count=15, label=\"15m\", step=\"minute\", stepmode=\"backward\"),\n",
    "                dict(count=1, label=\"1h\", step=\"hour\", stepmode=\"backward\"),\n",
    "                dict(step=\"all\")\n",
    "            ])\n",
    "        ),\n",
    "        rangeslider=dict(visible=True),\n",
    "        type=\"date\"\n",
    "    )\n",
    ")\n",
    "\n",
    "# Updating y-axis with dollar sign prefix\n",
    "fig.update_yaxes(tickprefix=\"$\")\n",
    "\n",
    "# Showing figure\n",
    "fig.show()"
   ]
  },
  {
   "cell_type": "markdown",
   "id": "d9ef3076",
   "metadata": {},
   "source": [
    "### Strategy Indicators"
   ]
  },
  {
   "cell_type": "code",
   "execution_count": null,
   "id": "560c84e5",
   "metadata": {},
   "outputs": [],
   "source": [
    "# Recalculating some fields to have the most updated values\n",
    "# Calculating moving averages\n",
    "df['MA5'] = df['Close'].rolling(5).mean()\n",
    "df['MA20'] = df['Close'].rolling(20).mean()\n",
    "\n",
    "# Parameters for Bollinger Bands\n",
    "window = 20\n",
    "no_of_std = 2\n",
    "\n",
    "# Calculate moving average\n",
    "df['SMA'] = df['Close'].rolling(window=window).mean()\n",
    "\n",
    "# Calculate rolling standard deviation\n",
    "df['STD'] = df['Close'].rolling(window=window).std()\n",
    "\n",
    "# Calculate upper and lower Bollinger Bands\n",
    "df['Upper_Band'] = df['SMA'] + (df['STD'] * no_of_std)\n",
    "df['Lower_Band'] = df['SMA'] - (df['STD'] * no_of_std)\n",
    "\n",
    "# Creating a figure\n",
    "fig = go.Figure()\n",
    "\n",
    "# Adding candlestick trace\n",
    "fig.add_trace(go.Candlestick(x=df.index,\n",
    "                             open=df['Open'],\n",
    "                             high=df['High'],\n",
    "                             low=df['Low'],\n",
    "                             close=df['Close'],\n",
    "                             name='Market Data'))\n",
    "\n",
    "# Adding SPT Up trace\n",
    "fig.add_trace(go.Scatter(x=df.index,\n",
    "                         y=df['SUPERTs_4_2.0'],\n",
    "                         line=dict(color='red', width=1.5),\n",
    "                         name='SPT Up'))\n",
    "\n",
    "# Adding SPT Down trace\n",
    "fig.add_trace(go.Scatter(x=df.index,\n",
    "                         y=df['SUPERTl_4_2.0'],\n",
    "                         line=dict(color='blue', width=1.5),\n",
    "                         name='SPT Down'))\n",
    "\n",
    "# Short-term moving average trace\n",
    "fig.add_trace(go.Scatter(x=df.index,\n",
    "                         y=df['MA5'],\n",
    "                         line=dict(color='orange', width=1.5),\n",
    "                         name='Short Term MA'))\n",
    "\n",
    "# Long-term moving average trace\n",
    "fig.add_trace(go.Scatter(x=df.index,\n",
    "                         y=df['MA20'],\n",
    "                         line=dict(color='purple', width=1.5),\n",
    "                         name='Long Term MA'))\n",
    "\n",
    "# Adding Bollinger Bands traces\n",
    "fig.add_trace(go.Scatter(x=df.index,\n",
    "                         y=df['Upper_Band'],\n",
    "                         line=dict(color='red', width=1.5),\n",
    "                         name='Upper Bollinger Band'))\n",
    "\n",
    "fig.add_trace(go.Scatter(x=df.index,\n",
    "                         y=df['SMA'],\n",
    "                         line=dict(color='purple', width=1.5),\n",
    "                         name='20-day SMA'))\n",
    "\n",
    "fig.add_trace(go.Scatter(x=df.index,\n",
    "                         y=df['Lower_Band'],\n",
    "                         line=dict(color='green', width=1.5),\n",
    "                         name='Lower Bollinger Band'))\n",
    "\n",
    "# Updating layout\n",
    "fig.update_layout(\n",
    "    title='ETHUSDT Market Data with Indicators',\n",
    "    yaxis_title='ETHUSDT (US Dollars)',\n",
    "    xaxis_title='Date',\n",
    "    xaxis_rangeslider_visible=True,\n",
    "    xaxis=dict(\n",
    "        rangeselector=dict(\n",
    "            buttons=list([\n",
    "                dict(count=1, label=\"1m\", step=\"minute\", stepmode=\"backward\"),\n",
    "                dict(count=15, label=\"15m\", step=\"minute\", stepmode=\"backward\"),\n",
    "                dict(count=1, label=\"1h\", step=\"hour\", stepmode=\"backward\"),\n",
    "                dict(step=\"all\")\n",
    "            ])\n",
    "        ),\n",
    "        rangeslider=dict(visible=True),\n",
    "        type=\"date\"\n",
    "    )\n",
    ")\n",
    "\n",
    "# Updating y-axis with dollar sign prefix\n",
    "fig.update_yaxes(tickprefix=\"$\")\n",
    "\n",
    "# Showing figure\n",
    "fig.show()"
   ]
  },
  {
   "cell_type": "markdown",
   "id": "f7a68d87",
   "metadata": {},
   "source": [
    "### Run Trading Bot"
   ]
  },
  {
   "cell_type": "code",
   "execution_count": null,
   "id": "ac27e304",
   "metadata": {
    "scrolled": false
   },
   "outputs": [],
   "source": [
    "# Continuously running the trading strategy in an infinite loop\n",
    "\n",
    "while True:\n",
    "    \n",
    "    # Executing the trading strategy for the specified symbol, interval, past time period, and quantity\n",
    "    strategy('BTCUSDT', '1m', '30', 5)\n",
    "    time.sleep(1)"
   ]
  }
 ],
 "metadata": {
  "kernelspec": {
   "display_name": "Python 3 (ipykernel)",
   "language": "python",
   "name": "python3"
  },
  "language_info": {
   "codemirror_mode": {
    "name": "ipython",
    "version": 3
   },
   "file_extension": ".py",
   "mimetype": "text/x-python",
   "name": "python",
   "nbconvert_exporter": "python",
   "pygments_lexer": "ipython3",
   "version": "3.11.5"
  },
  "toc": {
   "base_numbering": 1,
   "nav_menu": {},
   "number_sections": true,
   "sideBar": true,
   "skip_h1_title": false,
   "title_cell": "Table of Contents",
   "title_sidebar": "Contents",
   "toc_cell": false,
   "toc_position": {},
   "toc_section_display": true,
   "toc_window_display": false
  },
  "varInspector": {
   "cols": {
    "lenName": 16,
    "lenType": 16,
    "lenVar": 40
   },
   "kernels_config": {
    "python": {
     "delete_cmd_postfix": "",
     "delete_cmd_prefix": "del ",
     "library": "var_list.py",
     "varRefreshCmd": "print(var_dic_list())"
    },
    "r": {
     "delete_cmd_postfix": ") ",
     "delete_cmd_prefix": "rm(",
     "library": "var_list.r",
     "varRefreshCmd": "cat(var_dic_list()) "
    }
   },
   "types_to_exclude": [
    "module",
    "function",
    "builtin_function_or_method",
    "instance",
    "_Feature"
   ],
   "window_display": false
  }
 },
 "nbformat": 4,
 "nbformat_minor": 5
}
